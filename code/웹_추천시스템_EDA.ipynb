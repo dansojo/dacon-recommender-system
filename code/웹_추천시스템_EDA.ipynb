{
  "nbformat": 4,
  "nbformat_minor": 0,
  "metadata": {
    "colab": {
      "provenance": [],
      "gpuType": "T4",
      "mount_file_id": "17ZiGYzneFtkiImmYId3Dnw4JbEw1PYoQ",
      "authorship_tag": "ABX9TyPMDk+ko/Pa/S6/gjWO8vjh",
      "include_colab_link": true
    },
    "kernelspec": {
      "name": "python3",
      "display_name": "Python 3"
    },
    "language_info": {
      "name": "python"
    }
  },
  "cells": [
    {
      "cell_type": "markdown",
      "metadata": {
        "id": "view-in-github",
        "colab_type": "text"
      },
      "source": [
        "<a href=\"https://colab.research.google.com/github/sh-0620/dacon-recommender-system/blob/main/%EC%9B%B9_%EC%B6%94%EC%B2%9C%EC%8B%9C%EC%8A%A4%ED%85%9C_EDA.ipynb\" target=\"_parent\"><img src=\"https://colab.research.google.com/assets/colab-badge.svg\" alt=\"Open In Colab\"/></a>"
      ]
    },
    {
      "cell_type": "markdown",
      "source": [
        "python 라이브러리"
      ],
      "metadata": {
        "id": "OmoHOfAcNeRc"
      }
    },
    {
      "cell_type": "code",
      "source": [
        "import pandas as pd\n",
        "import numpy as np\n",
        "import re"
      ],
      "metadata": {
        "id": "pWvLTs74aG2N"
      },
      "execution_count": 1,
      "outputs": []
    },
    {
      "cell_type": "code",
      "source": [
        "# NLTK 리소스 다운로드 (처음 한 번만 실행)\n",
        "import nltk\n",
        "from nltk.corpus import stopwords\n",
        "from nltk.tokenize import word_tokenize\n",
        "from nltk.stem import WordNetLemmatizer, RSLPStemmer\n",
        "nltk.download('punkt')\n",
        "nltk.download('stopwords')\n",
        "nltk.download('wordnet')\n",
        "nltk.download('rslp')"
      ],
      "metadata": {
        "colab": {
          "base_uri": "https://localhost:8080/"
        },
        "id": "a_Vy3M2gIj2T",
        "outputId": "60771102-bbfc-4f48-c071-23264170982f"
      },
      "execution_count": 2,
      "outputs": [
        {
          "output_type": "stream",
          "name": "stderr",
          "text": [
            "[nltk_data] Downloading package punkt to /root/nltk_data...\n",
            "[nltk_data]   Unzipping tokenizers/punkt.zip.\n",
            "[nltk_data] Downloading package stopwords to /root/nltk_data...\n",
            "[nltk_data]   Unzipping corpora/stopwords.zip.\n",
            "[nltk_data] Downloading package wordnet to /root/nltk_data...\n",
            "[nltk_data] Downloading package rslp to /root/nltk_data...\n",
            "[nltk_data]   Unzipping stemmers/rslp.zip.\n"
          ]
        },
        {
          "output_type": "execute_result",
          "data": {
            "text/plain": [
              "True"
            ]
          },
          "metadata": {},
          "execution_count": 2
        }
      ]
    },
    {
      "cell_type": "code",
      "source": [
        "!pip install spacy\n",
        "!python -m spacy download en_core_web_sm\n",
        "!python -m spacy download pt_core_news_sm"
      ],
      "metadata": {
        "id": "2AphLUXHO1v4"
      },
      "execution_count": null,
      "outputs": []
    },
    {
      "cell_type": "code",
      "source": [
        "import spacy\n",
        "# 영어 및 포르투갈어 모델 로드\n",
        "\n",
        "nlp_en = spacy.load('en_core_web_sm')\n",
        "nlp_pt = spacy.load('pt_core_news_sm')"
      ],
      "metadata": {
        "id": "CnCR8xKTIoPs"
      },
      "execution_count": 6,
      "outputs": []
    },
    {
      "cell_type": "markdown",
      "source": [
        "CSV 파일 로드"
      ],
      "metadata": {
        "id": "fvKLFtV3IJsp"
      }
    },
    {
      "cell_type": "code",
      "source": [
        "# CSV 파일 로드\n",
        "data_path = '/content/drive/MyDrive/웹 기사 추천시스템/'\n",
        "\n",
        "view_log_df = pd.read_csv(data_path + \"view_log.csv\")  # 유저 로그 데이터\n",
        "articles_info_df = pd.read_csv(data_path +  \"article_info.csv\")  # 기사 데이터"
      ],
      "metadata": {
        "id": "RFNXbac2I50N"
      },
      "execution_count": 8,
      "outputs": []
    },
    {
      "cell_type": "markdown",
      "source": [
        "영어(preprocess_text_en) 와 포르투칼(preprocess_text_pt) 을 나눠서 텍스트 전처리"
      ],
      "metadata": {
        "id": "6cXtVWsHJFsq"
      }
    },
    {
      "cell_type": "code",
      "source": [
        "#  영어 텍스트 전처리\n",
        "\n",
        "def preprocess_text_en(text):\n",
        "    # 소문자 변환\n",
        "    text = text.lower()\n",
        "\n",
        "    # 특수 문자 제거\n",
        "    text = re.sub(r'[^a-zA-Z\\s]', '', text)\n",
        "\n",
        "    # 토큰화\n",
        "    tokens = word_tokenize(text)\n",
        "\n",
        "    # 불용어 제거\n",
        "    stop_words = set(stopwords.words('english'))\n",
        "    tokens = [word for word in tokens if word not in stop_words]\n",
        "\n",
        "    # 표제어 추출\n",
        "    lemmatizer = WordNetLemmatizer()\n",
        "    tokens = [lemmatizer.lemmatize(word) for word in tokens]\n",
        "\n",
        "    # 토큰들을 하나의 문자열로 결합\n",
        "    processed_text = ' '.join(tokens)\n",
        "\n",
        "    # 스페이스를 사용하여 명사 추출\n",
        "    doc = nlp_en(processed_text)\n",
        "    nouns = [token.text for token in doc if token.pos_ == 'NOUN']\n",
        "\n",
        "    return nouns\n",
        "\n",
        "#  포르투칼 텍스트 전처리\n",
        "\n",
        "def preprocess_text_pt(text):\n",
        "    # 소문자 변환\n",
        "    text = text.lower()\n",
        "\n",
        "    # 특수 문자 제거\n",
        "    text = re.sub(r'[^a-zA-Z\\s]', '', text)\n",
        "\n",
        "    # 토큰화\n",
        "    tokens = word_tokenize(text)\n",
        "\n",
        "    # 불용어 제거\n",
        "    stop_words = set(stopwords.words('portuguese'))\n",
        "    tokens = [word for word in tokens if word not in stop_words]\n",
        "\n",
        "    # 어간 추출\n",
        "    stemmer = RSLPStemmer()\n",
        "    tokens = [stemmer.stem(word) for word in tokens]\n",
        "\n",
        "    # 토큰들을 하나의 문자열로 결합\n",
        "    processed_text = ' '.join(tokens)\n",
        "\n",
        "    # 스페이스를 사용하여 명사 추출\n",
        "    doc = nlp_pt(processed_text)\n",
        "    nouns = [token.text for token in doc if token.pos_ == 'NOUN']\n",
        "\n",
        "    return nouns"
      ],
      "metadata": {
        "collapsed": true,
        "id": "yjb1BAhsjDGn"
      },
      "execution_count": 9,
      "outputs": []
    },
    {
      "cell_type": "markdown",
      "source": [
        "# 언어별 전처리 함수 적용"
      ],
      "metadata": {
        "id": "PkI0J1lDJsH2"
      }
    },
    {
      "cell_type": "code",
      "source": [
        "# 언어별 전처리 함수 적용\n",
        "articles_info_df['Processed_Title'] = articles_info_df.apply(lambda row: preprocess_text_pt(row['Title']) if row['Language'] == 'pt' else preprocess_text_en(row['Title']), axis=1)\n",
        "articles_info_df['Processed_Content'] = articles_info_df.apply(lambda row: preprocess_text_pt(row['Content']) if row['Language'] == 'pt' else preprocess_text_en(row['Content']), axis=1)"
      ],
      "metadata": {
        "id": "G0emQMXLI-PT"
      },
      "execution_count": 10,
      "outputs": []
    },
    {
      "cell_type": "code",
      "source": [
        "articles_info_df.info()"
      ],
      "metadata": {
        "id": "wuExTbJ_VB18",
        "collapsed": true,
        "colab": {
          "base_uri": "https://localhost:8080/"
        },
        "outputId": "7f9085fb-c31b-480b-eb70-1203d6cd08ed"
      },
      "execution_count": 11,
      "outputs": [
        {
          "output_type": "stream",
          "name": "stdout",
          "text": [
            "<class 'pandas.core.frame.DataFrame'>\n",
            "RangeIndex: 3008 entries, 0 to 3007\n",
            "Data columns (total 10 columns):\n",
            " #   Column             Non-Null Count  Dtype \n",
            "---  ------             --------------  ----- \n",
            " 0   articleID          3008 non-null   object\n",
            " 1   Title              3008 non-null   object\n",
            " 2   Content            3008 non-null   object\n",
            " 3   Format             3008 non-null   object\n",
            " 4   Language           3008 non-null   object\n",
            " 5   userID             3008 non-null   object\n",
            " 6   userCountry        659 non-null    object\n",
            " 7   userRegion         657 non-null    object\n",
            " 8   Processed_Title    3008 non-null   object\n",
            " 9   Processed_Content  3008 non-null   object\n",
            "dtypes: object(10)\n",
            "memory usage: 235.1+ KB\n"
          ]
        }
      ]
    },
    {
      "cell_type": "markdown",
      "source": [
        "articles_info_df 에서 절반 이상의 데이터가 Null값인 'userCountry', 'userRegion' 제거 및 필요 없다고 예측되는 userID 컬럼 제거"
      ],
      "metadata": {
        "id": "gzMRDIlRQ_9V"
      }
    },
    {
      "cell_type": "code",
      "source": [
        "# 불필요한 열 제거\n",
        "articles_info_df = articles_info_df.drop(['userCountry', 'userRegion', 'userID'], axis=1)"
      ],
      "metadata": {
        "id": "0vkCT5XxQbq7"
      },
      "execution_count": 12,
      "outputs": []
    },
    {
      "cell_type": "markdown",
      "source": [
        "articles_info_df 에서 view_log_df에 기록이 되지 않은 기사는 유의미 하지 않으므로 제거"
      ],
      "metadata": {
        "id": "rLaEYQtaSQVl"
      }
    },
    {
      "cell_type": "code",
      "source": [
        "# 데이터 병합\n",
        "merged_df = pd.merge(view_log_df, articles_info_df, on='articleID')\n",
        "\n",
        "# 기사 데이터 중 로그 데이터에 없는 기사 제거\n",
        "articles_info_df = articles_info_df[articles_info_df['articleID'].isin(merged_df['articleID'].unique())]"
      ],
      "metadata": {
        "id": "TQ6HGS6GQ2zo"
      },
      "execution_count": 13,
      "outputs": []
    },
    {
      "cell_type": "markdown",
      "source": [
        "콘텐츠 기반 필터링 + 협업 필터링 작업 할 때 shape을 맞추기 위해 데이터 merge 과정을 진행"
      ],
      "metadata": {
        "id": "vkJvlyisTc76"
      }
    },
    {
      "cell_type": "code",
      "source": [
        "# 데이터 병합\n",
        "merged_df = pd.merge(view_log_df, articles_info_df, on='articleID')"
      ],
      "metadata": {
        "id": "DVnlqH8FQqjk"
      },
      "execution_count": 14,
      "outputs": []
    },
    {
      "cell_type": "code",
      "source": [
        "merged_df.info()"
      ],
      "metadata": {
        "colab": {
          "base_uri": "https://localhost:8080/"
        },
        "id": "3jPhK1vYUkOs",
        "outputId": "3d61d5e2-e7bd-4e25-906a-38ef3493527d"
      },
      "execution_count": 15,
      "outputs": [
        {
          "output_type": "stream",
          "name": "stdout",
          "text": [
            "<class 'pandas.core.frame.DataFrame'>\n",
            "RangeIndex: 42717 entries, 0 to 42716\n",
            "Data columns (total 10 columns):\n",
            " #   Column             Non-Null Count  Dtype \n",
            "---  ------             --------------  ----- \n",
            " 0   userID             42717 non-null  object\n",
            " 1   articleID          42717 non-null  object\n",
            " 2   userRegion         42717 non-null  object\n",
            " 3   userCountry        42717 non-null  object\n",
            " 4   Title              42717 non-null  object\n",
            " 5   Content            42717 non-null  object\n",
            " 6   Format             42717 non-null  object\n",
            " 7   Language           42717 non-null  object\n",
            " 8   Processed_Title    42717 non-null  object\n",
            " 9   Processed_Content  42717 non-null  object\n",
            "dtypes: object(10)\n",
            "memory usage: 3.3+ MB\n"
          ]
        }
      ]
    },
    {
      "cell_type": "markdown",
      "source": [
        "merge한 데이터 프레임 csv 파일로 저장"
      ],
      "metadata": {
        "id": "G4Wu6g5bUUvY"
      }
    },
    {
      "cell_type": "code",
      "source": [
        "merged_df.to_csv(data_path + 'article_nouns_df.csv')"
      ],
      "metadata": {
        "id": "amgiAJ82OKo-"
      },
      "execution_count": 16,
      "outputs": []
    }
  ]
}
