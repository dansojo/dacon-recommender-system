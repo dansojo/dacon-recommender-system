{
  "nbformat": 4,
  "nbformat_minor": 0,
  "metadata": {
    "colab": {
      "provenance": [],
      "mount_file_id": "1ywXa1kl-9j1N3BrV9GN4u0AAc-icHJ0I",
      "authorship_tag": "ABX9TyOuqFOdqE1HmbX1hLN2FJtx",
      "include_colab_link": true
    },
    "kernelspec": {
      "name": "python3",
      "display_name": "Python 3"
    },
    "language_info": {
      "name": "python"
    }
  },
  "cells": [
    {
      "cell_type": "markdown",
      "metadata": {
        "id": "view-in-github",
        "colab_type": "text"
      },
      "source": [
        "<a href=\"https://colab.research.google.com/github/sh-0620/dacon-recommender-system/blob/main/HybridRecommender_FinalImplementation.ipynb\" target=\"_parent\"><img src=\"https://colab.research.google.com/assets/colab-badge.svg\" alt=\"Open In Colab\"/></a>"
      ]
    },
    {
      "cell_type": "markdown",
      "source": [
        "Python 라이브러리"
      ],
      "metadata": {
        "id": "VgJwR-Ojd4L9"
      }
    },
    {
      "cell_type": "code",
      "source": [
        "import pandas as pd\n",
        "import numpy as np\n",
        "import re\n",
        "from sklearn.feature_extraction.text import TfidfVectorizer\n",
        "from sklearn.preprocessing import OneHotEncoder, LabelEncoder\n",
        "from sklearn.metrics.pairwise import cosine_similarity\n",
        "from collections import defaultdict"
      ],
      "metadata": {
        "id": "leMyCicS2FXL"
      },
      "execution_count": 1,
      "outputs": []
    },
    {
      "cell_type": "code",
      "source": [
        "# CSV 파일 로드\n",
        "merged_df = pd.read_csv(\"/content/drive/MyDrive/웹 기사 추천시스템/merged_df.csv\")  # 전처리된 기사 데이터 + 로그 데이터,
        "article_nouns_df = pd.read_csv(\"/content/drive/MyDrive/웹 기사 추천시스템/article_nouns_df.csv\")  # 전처리된 기사 데이터\n"
      ],
      "metadata": {
        "id": "WcQLl2DT2dII"
      },
      "execution_count": 2,
      "outputs": []
    },
    {
      "cell_type": "markdown",
      "source": [
        "데이터 프레임 정리"
      ],
      "metadata": {
        "id": "ouf343O-yoAX"
      }
    },
    {
      "cell_type": "code",
      "source": [
        "# 사용자-기사 행렬 생성\n",
        "user_article_matrix = merged_df.groupby(['userID', 'articleID']).size().unstack(fill_value=0)\n",
        "\n",
        "# 사용자 간의 유사성 계산\n",
        "user_similarity = cosine_similarity(user_article_matrix.values)\n",
        "\n",
        "# 협업 필터링 추천 점수 계산\n",
        "user_based_scores = user_similarity.dot(user_article_matrix.values) / np.array([np.abs(user_similarity).sum(axis=1)]).T"
      ],
      "metadata": {
        "id": "17Qb_GF13Ti2"
      },
      "execution_count": 3,
      "outputs": []
    },
    {
      "cell_type": "markdown",
      "source": [
        "*   범주형 변수 텍스트 (라벨 / 원핫) 인코딩\n",
        "*   전처리된(Title + Content) 컬럼  TfidfVectorizer 백터화\n",
        "*   원본Content컬럼의 len 백터화\n",
        "*   원본Title컬럼의 len 백터화\n",
        "\n",
        "\n",
        "       => np.hstack 을 이용하여 결합\n",
        "\n",
        "\n",
        "\n",
        "\n",
        "\n"
      ],
      "metadata": {
        "id": "Dy2qrkyedckf"
      }
    },
    {
      "cell_type": "markdown",
      "source": [
        "Label Encoding"
      ],
      "metadata": {
        "id": "A1cuQPAPZZ42"
      }
    },
    {
      "cell_type": "code",
      "source": [
        "# 라벨 인코더 생성 및 학습\n",
        "article_label_encoder = LabelEncoder()\n",
        "merged_df['articleID'] = article_label_encoder.fit_transform(merged_df['articleID'])\n",
        "article_nouns_df['articleID'] = article_label_encoder.transform(article_nouns_df['articleID'])\n",
        "\n",
        "# 유저 아이디 라벨 인코딩 적용\n",
        "user_label_encoder = LabelEncoder()\n",
        "merged_df['userID'] = user_label_encoder.fit_transform(merged_df['userID'])\n"
      ],
      "metadata": {
        "id": "Mvf9JN1Y2WpV"
      },
      "execution_count": 4,
      "outputs": []
    },
    {
      "cell_type": "markdown",
      "source": [
        "one - Hot - Incoding"
      ],
      "metadata": {
        "id": "oWgJurmFB-Fh"
      }
    },
    {
      "cell_type": "code",
      "source": [
        "# merged_df 원핫 인코딩\n",
        "encoder = OneHotEncoder()\n",
        "\n",
        "# 범주형 변수 선택 (지역, 나라, 언어, 형식)\n",
        "merged_df_categories = merged_df[['userRegion', 'userCountry', 'Format', 'Language']]\n",
        "\n",
        "\n",
        "# One-Hot Encoding 수행\n",
        "merged_df_encoded_categories = encoder.fit_transform(merged_df_categories).toarray()"
      ],
      "metadata": {
        "id": "eZvgqESZ3GAR"
      },
      "execution_count": 7,
      "outputs": []
    },
    {
      "cell_type": "markdown",
      "source": [
        "원본Content컬럼의 len 백터화"
      ],
      "metadata": {
        "id": "tAC5sRWaaUkt"
      }
    },
    {
      "cell_type": "code",
      "source": [
        "# Content 컬럼의 길이 계산\n",
        "merged_df['Content_length'] = merged_df['Content'].apply(len)\n",
        "\n",
        "# Content 길이를 특징으로 추가\n",
        "content_lengths = merged_df['Content_length'].values.reshape(-1, 1)"
      ],
      "metadata": {
        "id": "MC9VHnArfvlj"
      },
      "execution_count": 8,
      "outputs": []
    },
    {
      "cell_type": "markdown",
      "source": [
        "원본Title컬럼의 len 백터화"
      ],
      "metadata": {
        "id": "KL9in5mkaXRB"
      }
    },
    {
      "cell_type": "code",
      "source": [
        "# Title 컬럼의 길이 계산\n",
        "merged_df['Title_length'] = merged_df['Title'].apply(len)\n",
        "\n",
        "# Title 길이를 특징으로 추가\n",
        "title_lengths = merged_df['Title_length'].values.reshape(-1, 1)"
      ],
      "metadata": {
        "id": "H_FUwFaOemC2"
      },
      "execution_count": 9,
      "outputs": []
    },
    {
      "cell_type": "markdown",
      "source": [
        "전처리된(Content) 컬럼 TfidfVectorizer 백터화"
      ],
      "metadata": {
        "id": "GcNYNmepaYqI"
      }
    },
    {
      "cell_type": "code",
      "source": [
        "# 기사 데이터 전처리: 본문\n",
        "tfidf_content = TfidfVectorizer(\n",
        "    max_features=10000,\n",
        "    ngram_range=(1, 2),\n",
        "    max_df=0.8,\n",
        "    min_df=3,\n",
        "    sublinear_tf=True,\n",
        "    smooth_idf=True\n",
        ")\n",
        "tfidf_matrix_content = tfidf_content.fit_transform(merged_df['Processed_Content'])"
      ],
      "metadata": {
        "id": "phAXZOgy3STE"
      },
      "execution_count": 13,
      "outputs": []
    },
    {
      "cell_type": "markdown",
      "source": [
        "전처리된(Title) 컬럼 TfidfVectorizer 백터화"
      ],
      "metadata": {
        "id": "QJWyGjaJaYO2"
      }
    },
    {
      "cell_type": "code",
      "source": [
        "# 기사 데이터 전처리: 제목\n",
        "tfidf_title = TfidfVectorizer(\n",
        "    max_features=5000,        # 제목은 보통 짧아서 10000개의 특징보다 적은 5000개로 설정\n",
        "    ngram_range=(1, 2),       # 유니그램과 바이그램을 유지\n",
        "    max_df=0.9,               # 제목의 경우 흔히 나오는 단어들을 조금 더 허용 (90% 이하)\n",
        "    min_df=1,                 # 드물게 나오는 단어도 포함 (최소 1회 등장)\n",
        "    sublinear_tf=True,        # TF를 로그 스케일로 변환\n",
        "    smooth_idf=True           # IDF 스무딩 적용\n",
        ")\n",
        "tfidf_matrix_title = tfidf_title.fit_transform(merged_df['Processed_Title'])"
      ],
      "metadata": {
        "id": "cbyoJIkhb8uN"
      },
      "execution_count": 14,
      "outputs": []
    },
    {
      "cell_type": "markdown",
      "source": [
        "np.hstack 을 이용하여 결합"
      ],
      "metadata": {
        "id": "io59RDvYamEc"
      }
    },
    {
      "cell_type": "code",
      "source": [
        "# TF-IDF 행렬과 원핫 인코딩 및 미리 계산된 피처 벡터 결합\n",
        "combined_features = np.hstack((tfidf_matrix_title.toarray(),\n",
        "                               tfidf_matrix_content.toarray(),\n",
        "                               merged_df_encoded_categories,\n",
        "                               content_lengths,\n",
        "                               title_lengths ))"
      ],
      "metadata": {
        "id": "Ny6-kNaU8Cqg"
      },
      "execution_count": 15,
      "outputs": []
    },
    {
      "cell_type": "markdown",
      "source": [
        "유저별 기사 읽기 패턴 추출"
      ],
      "metadata": {
        "id": "3S_zOXF9dESu"
      }
    },
    {
      "cell_type": "code",
      "source": [
        "user_read_articles = defaultdict(list)\n",
        "for _, row in merged_df.iterrows():\n",
        "    user_read_articles[row['userID']].append(row['articleID'])"
      ],
      "metadata": {
        "id": "R5ahpTqU3gUO"
      },
      "execution_count": 16,
      "outputs": []
    },
    {
      "cell_type": "markdown",
      "source": [
        "유저 기반 협업 필터링 모델 + 사용자 기반 협업 필터링 점수를 이용하여 하이브리드 추천 점수 계산"
      ],
      "metadata": {
        "id": "jK3-PSjodIyH"
      }
    },
    {
      "cell_type": "code",
      "source": [
        "\n",
        "def recommend_articles(userID, top_n=5):\n",
        "\n",
        "    if userID not in user_read_articles or not user_read_articles[userID]:\n",
        "        return article_nouns_df.sample(n=top_n)[['Processed_Content', 'Processed_Content']]\n",
        "\n",
        "    read_articles = user_read_articles[userID]\n",
        "    read_articles_features = combined_features[read_articles]\n",
        "\n",
        "    if read_articles_features.shape[0] == 0:\n",
        "        return article_nouns_df.sample(n=top_n)[['Processed_Content', 'Processed_Content']]\n",
        "\n",
        "    # 사용자가 읽은 기사들의 피처 벡터 평균 계산\n",
        "    avg_features = np.mean(read_articles_features, axis=0).reshape(1, -1)\n",
        "\n",
        "    # 사용자가 읽은 기사들의 피처 벡터 평균과 모든 기사들의 피처 벡터 간의 코사인 유사도 계산\n",
        "    content_similarities = cosine_similarity(avg_features, combined_features).flatten()\n",
        "\n",
        "    # 사용자 기반 협업 필터링 점수\n",
        "    collaborative_similarities = user_based_scores[userID]\n",
        "\n",
        "    # 하이브리드 추천 점수 계산 (콘텐츠 기반 필터링과 협업 필터링의 가중합)\n",
        "    # content_similarities와 collaborative_similarities의 크기를 맞추기 위해 content_similarities의 모든 기사에 대한 유사도를 계산\n",
        "    hybrid_similarities = np.zeros(collaborative_similarities.shape)\n",
        "\n",
        "    for i, article_id in enumerate(article_nouns_df['articleID']):\n",
        "        if article_id in user_read_articles[userID]:\n",
        "            idx = article_nouns_df[article_nouns_df['articleID'] == article_id].index[0]\n",
        "            hybrid_similarities[i] = collaborative_similarities[i] + content_similarities[idx]\n",
        "        else:\n",
        "            hybrid_similarities[i] = collaborative_similarities[i]\n",
        "\n",
        "    # 유사도가 높은 상위 top_n 개의 기사 인덱스 추출\n",
        "    similar_articles_indices = hybrid_similarities.argsort()[-top_n:][::-1]\n",
        "\n",
        "    # 추천 기사 반환\n",
        "    recommendations = article_nouns_df.iloc[similar_articles_indices]\n",
        "    return recommendations[[\"articleID\"]]\n"
      ],
      "metadata": {
        "id": "n0ZCcLxU55jR"
      },
      "execution_count": null,
      "outputs": []
    },
    {
      "cell_type": "markdown",
      "source": [
        "라벨 인코딩된 컬럼 'userID', 'articleID' 역변환 하여 결과물을 리스트에 저장"
      ],
      "metadata": {
        "id": "aVJR6znIdYCc"
      }
    },
    {
      "cell_type": "code",
      "source": [
        "user_recommendations = []\n",
        "\n",
        "for encoded_user_id in merged_df['userID'].unique():\n",
        "    # 추천 기사 인덱스 가져오기\n",
        "    recommended_articles = recommend_articles(encoded_user_id)\n",
        "\n",
        "    # 원래 유저 아이디로 역변환\n",
        "    original_user_id = user_label_encoder.inverse_transform([encoded_user_id])[0]\n",
        "\n",
        "    for idx in recommended_articles.index:\n",
        "        # 원래 기사 아이디로 역변환\n",
        "        original_article_id = article_label_encoder.inverse_transform([article_nouns_df.loc[idx, 'articleID']])[0]\n",
        "\n",
        "        # 추천 결과를 리스트에 저장\n",
        "        user_recommendations.append({\n",
        "            'userID': original_user_id,\n",
        "            'articleID': original_article_id\n",
        "        })"
      ],
      "metadata": {
        "id": "LAw_OBAs4kqt"
      },
      "execution_count": null,
      "outputs": []
    },
    {
      "cell_type": "markdown",
      "source": [
        "최종 결과물을 데이터프레임화 시켜 정렬후 최종 제출 csv 파일로 저장\n"
      ],
      "metadata": {
        "id": "_-j0bfzHdsJR"
      }
    },
    {
      "cell_type": "code",
      "source": [
        "recommendations_df = pd.DataFrame(user_recommendations)\n",
        "recommendations_df = recommendations_df.sort_values(by ='userID').reset_index(drop=True)"
      ],
      "metadata": {
        "id": "CUlII5l49bYB"
      },
      "execution_count": null,
      "outputs": []
    },
    {
      "cell_type": "code",
      "source": [
        "recommendations_df.to_csv('HybridRecommender_FinalImplementation.csv', index=False)"
      ],
      "metadata": {
        "id": "-y_bmy-O9wTT"
      },
      "execution_count": null,
      "outputs": []
    }
  ]
}
