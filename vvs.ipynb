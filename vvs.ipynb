{
  "nbformat": 4,
  "nbformat_minor": 0,
  "metadata": {
    "colab": {
      "provenance": [],
      "authorship_tag": "ABX9TyMN2PkbkRw9i7LiGGvfeIho",
      "include_colab_link": true
    },
    "kernelspec": {
      "name": "python3",
      "display_name": "Python 3"
    },
    "language_info": {
      "name": "python"
    }
  },
  "cells": [
    {
      "cell_type": "markdown",
      "metadata": {
        "id": "view-in-github",
        "colab_type": "text"
      },
      "source": [
        "<a href=\"https://colab.research.google.com/github/sh-0620/dacon-recommender-system/blob/main/vvs.ipynb\" target=\"_parent\"><img src=\"https://colab.research.google.com/assets/colab-badge.svg\" alt=\"Open In Colab\"/></a>"
      ]
    },
    {
      "cell_type": "code",
      "source": [
        "from google.colab import drive\n",
        "drive.mount('/content/drive')"
      ],
      "metadata": {
        "colab": {
          "base_uri": "https://localhost:8080/"
        },
        "id": "PhBCTV-Ne2EF",
        "outputId": "ca242bbc-3f5e-40da-adf5-48d4a95ad5fa"
      },
      "execution_count": 2,
      "outputs": [
        {
          "output_type": "stream",
          "name": "stdout",
          "text": [
            "Mounted at /content/drive\n"
          ]
        }
      ]
    },
    {
      "cell_type": "code",
      "source": [
        "import pandas as pd\n",
        "import numpy as np\n",
        "from sklearn.feature_extraction.text import TfidfVectorizer\n",
        "from sklearn.preprocessing import OneHotEncoder, LabelEncoder\n",
        "from sklearn.metrics.pairwise import cosine_similarity\n",
        "from collections import defaultdict"
      ],
      "metadata": {
        "id": "leMyCicS2FXL"
      },
      "execution_count": 3,
      "outputs": []
    },
    {
      "cell_type": "code",
      "source": [
        "# CSV 파일 로드\n",
        "log_df = pd.read_csv(\"/content/drive/MyDrive/웹 기사 추천시스템/view_log.csv\")  # 유저 로그 데이터\n",
        "article__df = pd.read_csv(\"/content/drive/MyDrive/웹 기사 추천시스템/article_info.csv\")  # 기사 데이터\n",
        "article_nouns_df = pd.read_csv(\"/content/drive/MyDrive/웹 기사 추천시스템/article_nouns.csv\")  # New기사 데이터"
      ],
      "metadata": {
        "id": "WcQLl2DT2dII"
      },
      "execution_count": 4,
      "outputs": []
    },
    {
      "cell_type": "code",
      "source": [
        "# 불필요한 열 제거\n",
        "article_nouns_df = article_nouns_df.drop(['userCountry', 'userRegion', 'userID'], axis=1)\n",
        "\n",
        "# 데이터 병합\n",
        "merged_df = pd.merge(log_df, article_nouns_df, on='articleID')\n",
        "\n",
        "# 기사 데이터 중 로그 데이터에 없는 기사 제거\n",
        "article_nouns_df = article_nouns_df[article_nouns_df['articleID'].isin(merged_df['articleID'].unique())]\n",
        "\n",
        "merged_df = pd.merge(log_df, article_nouns_df, on='articleID')"
      ],
      "metadata": {
        "id": "F0Sd06qf2Q9-"
      },
      "execution_count": 5,
      "outputs": []
    },
    {
      "cell_type": "code",
      "source": [
        "# 사용자-기사 행렬 생성\n",
        "user_article_matrix = merged_df.groupby(['userID', 'articleID']).size().unstack(fill_value=0)\n",
        "\n",
        "# 사용자 간의 유사성 계산\n",
        "user_similarity = cosine_similarity(user_article_matrix.values)\n",
        "\n",
        "# 협업 필터링 추천 점수 계산\n",
        "user_based_scores = user_similarity.dot(user_article_matrix.values) / np.array([np.abs(user_similarity).sum(axis=1)]).T\n"
      ],
      "metadata": {
        "id": "17Qb_GF13Ti2"
      },
      "execution_count": 6,
      "outputs": []
    },
    {
      "cell_type": "code",
      "source": [
        "# 라벨 인코더 생성 및 학습\n",
        "article_label_encoder = LabelEncoder()\n",
        "merged_df['articleID'] = article_label_encoder.fit_transform(merged_df['articleID'])\n",
        "\n",
        "# 유저 아이디 라벨 인코딩 적용\n",
        "user_label_encoder = LabelEncoder()\n",
        "merged_df['userID'] = user_label_encoder.fit_transform(merged_df['userID'])\n"
      ],
      "metadata": {
        "id": "Mvf9JN1Y2WpV"
      },
      "execution_count": 7,
      "outputs": []
    },
    {
      "cell_type": "markdown",
      "source": [],
      "metadata": {
        "id": "oWgJurmFB-Fh"
      }
    },
    {
      "cell_type": "code",
      "source": [
        "# merged_df 원핫 인코딩\n",
        "encoder = OneHotEncoder()\n",
        "\n",
        "# 범주형 변수 선택 (지역, 나라, 언어, 형식)\n",
        "merged_df_categories = merged_df[['userRegion', 'userCountry', 'Format', 'Language']]\n",
        "\n",
        "\n",
        "# One-Hot Encoding 수행\n",
        "merged_df_encoded_categories = encoder.fit_transform(merged_df_categories).toarray()"
      ],
      "metadata": {
        "id": "eZvgqESZ3GAR"
      },
      "execution_count": 8,
      "outputs": []
    },
    {
      "cell_type": "code",
      "source": [
        "# Content 컬럼의 길이 계산\n",
        "merged_df['Content_length'] = merged_df['Content'].apply(len)\n",
        "\n",
        "# Content 길이를 특징으로 추가\n",
        "content_lengths = merged_df['Content_length'].values.reshape(-1, 1)"
      ],
      "metadata": {
        "id": "MC9VHnArfvlj"
      },
      "execution_count": 10,
      "outputs": []
    },
    {
      "cell_type": "code",
      "source": [
        "# 기사 데이터 전처리: 제목 + 본문\n",
        "tfidf = TfidfVectorizer(\n",
        "    stop_words='english',\n",
        "    max_features=10000,\n",
        "    ngram_range=(1, 2),\n",
        "    max_df=0.8,\n",
        "    min_df=3,\n",
        "    sublinear_tf=True,\n",
        "    smooth_idf=True\n",
        ")\n",
        "tfidf_matrix = tfidf.fit_transform(merged_df['Title'] + ' ' + merged_df['Content_Nouns'])"
      ],
      "metadata": {
        "id": "phAXZOgy3STE"
      },
      "execution_count": 11,
      "outputs": []
    },
    {
      "cell_type": "code",
      "source": [
        "# TF-IDF 행렬과 원핫 인코딩된 피처 벡터 결합\n",
        "combined_features = np.hstack((tfidf_matrix.toarray(), merged_df_encoded_categories, content_lengths ))"
      ],
      "metadata": {
        "id": "Ny6-kNaU8Cqg"
      },
      "execution_count": 12,
      "outputs": []
    },
    {
      "cell_type": "code",
      "source": [
        "# 유저별 기사 읽기 패턴 추출\n",
        "user_read_articles = defaultdict(list)\n",
        "for _, row in merged_df.iterrows():\n",
        "    user_read_articles[row['userID']].append(row['articleID'])"
      ],
      "metadata": {
        "id": "R5ahpTqU3gUO"
      },
      "execution_count": 13,
      "outputs": []
    },
    {
      "cell_type": "code",
      "source": [
        "# 유저 기반 협업 필터링 모델\n",
        "def recommend_articles(userID, top_n=5):\n",
        "\n",
        "    if userID not in user_read_articles or not user_read_articles[userID]:\n",
        "        return article_nouns_df.sample(n=top_n)[['Title', 'Content_Nouns']]\n",
        "\n",
        "    read_articles = user_read_articles[userID]\n",
        "    read_articles_features = combined_features[read_articles]\n",
        "\n",
        "    if read_articles_features.shape[0] == 0:\n",
        "        return article_nouns_df.sample(n=top_n)[['Title', 'Content_Nouns']]\n",
        "\n",
        "    # 사용자가 읽은 기사들의 피처 벡터 평균 계산\n",
        "    avg_features = np.mean(read_articles_features, axis=0).reshape(1, -1)\n",
        "\n",
        "    # 사용자가 읽은 기사들의 피처 벡터 평균과 모든 기사들의 피처 벡터 간의 코사인 유사도 계산\n",
        "    content_similarities = cosine_similarity(avg_features, combined_features).flatten()\n",
        "\n",
        "    # 사용자 기반 협업 필터링 점수\n",
        "    # user_idx = user_label_encoder.transform([userID])[0]\n",
        "    collaborative_similarities = user_based_scores[userID]\n",
        "\n",
        "    # 하이브리드 추천 점수 계산 (콘텐츠 기반 필터링과 협업 필터링의 가중합)\n",
        "    # content_similarities와 collaborative_similarities의 크기를 맞추기 위해 content_similarities의 모든 기사에 대한 유사도를 계산\n",
        "    hybrid_similarities = np.zeros(collaborative_similarities.shape)\n",
        "\n",
        "    for i, article_id in enumerate(article_nouns_df['articleID']):\n",
        "        if article_id in user_read_articles[userID]:\n",
        "            idx = article_nouns_df[article_nouns_df['articleID'] == article_id].index[0]\n",
        "            hybrid_similarities[i] = collaborative_similarities[i] + content_similarities[idx]\n",
        "        else:\n",
        "            hybrid_similarities[i] = collaborative_similarities[i]\n",
        "\n",
        "    # 유사도가 높은 상위 top_n 개의 기사 인덱스 추출\n",
        "    similar_articles_indices = hybrid_similarities.argsort()[-top_n:][::-1]\n",
        "\n",
        "    # 추천 기사 반환\n",
        "    recommendations = article_nouns_df.iloc[similar_articles_indices]\n",
        "    return recommendations[['Title', 'Content_Nouns']]\n"
      ],
      "metadata": {
        "id": "n0ZCcLxU55jR"
      },
      "execution_count": 16,
      "outputs": []
    },
    {
      "cell_type": "code",
      "source": [
        "recommend_articles(0)"
      ],
      "metadata": {
        "colab": {
          "base_uri": "https://localhost:8080/",
          "height": 206
        },
        "id": "7BAPt56XDBLl",
        "outputId": "be993932-ed5b-4bbf-ad00-5c27a98d8406"
      },
      "execution_count": 17,
      "outputs": [
        {
          "output_type": "execute_result",
          "data": {
            "text/plain": [
              "                                                  Title  \\\n",
              "411                                     Embracing Agile   \n",
              "664   Running GV sprints inside corporates - learn f...   \n",
              "1568  Ray Kurzweil: The world isn't getting worse - ...   \n",
              "1230  You won't recognize the new world of digital p...   \n",
              "2255           Equal Pay Day in the spotlight this year   \n",
              "\n",
              "                                          Content_Nouns  \n",
              "411   idea problem method development function compa...  \n",
              "664   sprint corporates mistake venture sprint book ...  \n",
              "1568  author inventor computer scientist futurist sp...  \n",
              "1230  intelligence device device pocket task camera ...  \n",
              "2255  woman money men woman cent dollar men income a...  "
            ],
            "text/html": [
              "\n",
              "  <div id=\"df-40c5233e-5f5f-4863-be75-ef8ca0616fe3\" class=\"colab-df-container\">\n",
              "    <div>\n",
              "<style scoped>\n",
              "    .dataframe tbody tr th:only-of-type {\n",
              "        vertical-align: middle;\n",
              "    }\n",
              "\n",
              "    .dataframe tbody tr th {\n",
              "        vertical-align: top;\n",
              "    }\n",
              "\n",
              "    .dataframe thead th {\n",
              "        text-align: right;\n",
              "    }\n",
              "</style>\n",
              "<table border=\"1\" class=\"dataframe\">\n",
              "  <thead>\n",
              "    <tr style=\"text-align: right;\">\n",
              "      <th></th>\n",
              "      <th>Title</th>\n",
              "      <th>Content_Nouns</th>\n",
              "    </tr>\n",
              "  </thead>\n",
              "  <tbody>\n",
              "    <tr>\n",
              "      <th>411</th>\n",
              "      <td>Embracing Agile</td>\n",
              "      <td>idea problem method development function compa...</td>\n",
              "    </tr>\n",
              "    <tr>\n",
              "      <th>664</th>\n",
              "      <td>Running GV sprints inside corporates - learn f...</td>\n",
              "      <td>sprint corporates mistake venture sprint book ...</td>\n",
              "    </tr>\n",
              "    <tr>\n",
              "      <th>1568</th>\n",
              "      <td>Ray Kurzweil: The world isn't getting worse - ...</td>\n",
              "      <td>author inventor computer scientist futurist sp...</td>\n",
              "    </tr>\n",
              "    <tr>\n",
              "      <th>1230</th>\n",
              "      <td>You won't recognize the new world of digital p...</td>\n",
              "      <td>intelligence device device pocket task camera ...</td>\n",
              "    </tr>\n",
              "    <tr>\n",
              "      <th>2255</th>\n",
              "      <td>Equal Pay Day in the spotlight this year</td>\n",
              "      <td>woman money men woman cent dollar men income a...</td>\n",
              "    </tr>\n",
              "  </tbody>\n",
              "</table>\n",
              "</div>\n",
              "    <div class=\"colab-df-buttons\">\n",
              "\n",
              "  <div class=\"colab-df-container\">\n",
              "    <button class=\"colab-df-convert\" onclick=\"convertToInteractive('df-40c5233e-5f5f-4863-be75-ef8ca0616fe3')\"\n",
              "            title=\"Convert this dataframe to an interactive table.\"\n",
              "            style=\"display:none;\">\n",
              "\n",
              "  <svg xmlns=\"http://www.w3.org/2000/svg\" height=\"24px\" viewBox=\"0 -960 960 960\">\n",
              "    <path d=\"M120-120v-720h720v720H120Zm60-500h600v-160H180v160Zm220 220h160v-160H400v160Zm0 220h160v-160H400v160ZM180-400h160v-160H180v160Zm440 0h160v-160H620v160ZM180-180h160v-160H180v160Zm440 0h160v-160H620v160Z\"/>\n",
              "  </svg>\n",
              "    </button>\n",
              "\n",
              "  <style>\n",
              "    .colab-df-container {\n",
              "      display:flex;\n",
              "      gap: 12px;\n",
              "    }\n",
              "\n",
              "    .colab-df-convert {\n",
              "      background-color: #E8F0FE;\n",
              "      border: none;\n",
              "      border-radius: 50%;\n",
              "      cursor: pointer;\n",
              "      display: none;\n",
              "      fill: #1967D2;\n",
              "      height: 32px;\n",
              "      padding: 0 0 0 0;\n",
              "      width: 32px;\n",
              "    }\n",
              "\n",
              "    .colab-df-convert:hover {\n",
              "      background-color: #E2EBFA;\n",
              "      box-shadow: 0px 1px 2px rgba(60, 64, 67, 0.3), 0px 1px 3px 1px rgba(60, 64, 67, 0.15);\n",
              "      fill: #174EA6;\n",
              "    }\n",
              "\n",
              "    .colab-df-buttons div {\n",
              "      margin-bottom: 4px;\n",
              "    }\n",
              "\n",
              "    [theme=dark] .colab-df-convert {\n",
              "      background-color: #3B4455;\n",
              "      fill: #D2E3FC;\n",
              "    }\n",
              "\n",
              "    [theme=dark] .colab-df-convert:hover {\n",
              "      background-color: #434B5C;\n",
              "      box-shadow: 0px 1px 3px 1px rgba(0, 0, 0, 0.15);\n",
              "      filter: drop-shadow(0px 1px 2px rgba(0, 0, 0, 0.3));\n",
              "      fill: #FFFFFF;\n",
              "    }\n",
              "  </style>\n",
              "\n",
              "    <script>\n",
              "      const buttonEl =\n",
              "        document.querySelector('#df-40c5233e-5f5f-4863-be75-ef8ca0616fe3 button.colab-df-convert');\n",
              "      buttonEl.style.display =\n",
              "        google.colab.kernel.accessAllowed ? 'block' : 'none';\n",
              "\n",
              "      async function convertToInteractive(key) {\n",
              "        const element = document.querySelector('#df-40c5233e-5f5f-4863-be75-ef8ca0616fe3');\n",
              "        const dataTable =\n",
              "          await google.colab.kernel.invokeFunction('convertToInteractive',\n",
              "                                                    [key], {});\n",
              "        if (!dataTable) return;\n",
              "\n",
              "        const docLinkHtml = 'Like what you see? Visit the ' +\n",
              "          '<a target=\"_blank\" href=https://colab.research.google.com/notebooks/data_table.ipynb>data table notebook</a>'\n",
              "          + ' to learn more about interactive tables.';\n",
              "        element.innerHTML = '';\n",
              "        dataTable['output_type'] = 'display_data';\n",
              "        await google.colab.output.renderOutput(dataTable, element);\n",
              "        const docLink = document.createElement('div');\n",
              "        docLink.innerHTML = docLinkHtml;\n",
              "        element.appendChild(docLink);\n",
              "      }\n",
              "    </script>\n",
              "  </div>\n",
              "\n",
              "\n",
              "<div id=\"df-52ca997b-8215-49a7-a8f6-f2dc46fe3cb9\">\n",
              "  <button class=\"colab-df-quickchart\" onclick=\"quickchart('df-52ca997b-8215-49a7-a8f6-f2dc46fe3cb9')\"\n",
              "            title=\"Suggest charts\"\n",
              "            style=\"display:none;\">\n",
              "\n",
              "<svg xmlns=\"http://www.w3.org/2000/svg\" height=\"24px\"viewBox=\"0 0 24 24\"\n",
              "     width=\"24px\">\n",
              "    <g>\n",
              "        <path d=\"M19 3H5c-1.1 0-2 .9-2 2v14c0 1.1.9 2 2 2h14c1.1 0 2-.9 2-2V5c0-1.1-.9-2-2-2zM9 17H7v-7h2v7zm4 0h-2V7h2v10zm4 0h-2v-4h2v4z\"/>\n",
              "    </g>\n",
              "</svg>\n",
              "  </button>\n",
              "\n",
              "<style>\n",
              "  .colab-df-quickchart {\n",
              "      --bg-color: #E8F0FE;\n",
              "      --fill-color: #1967D2;\n",
              "      --hover-bg-color: #E2EBFA;\n",
              "      --hover-fill-color: #174EA6;\n",
              "      --disabled-fill-color: #AAA;\n",
              "      --disabled-bg-color: #DDD;\n",
              "  }\n",
              "\n",
              "  [theme=dark] .colab-df-quickchart {\n",
              "      --bg-color: #3B4455;\n",
              "      --fill-color: #D2E3FC;\n",
              "      --hover-bg-color: #434B5C;\n",
              "      --hover-fill-color: #FFFFFF;\n",
              "      --disabled-bg-color: #3B4455;\n",
              "      --disabled-fill-color: #666;\n",
              "  }\n",
              "\n",
              "  .colab-df-quickchart {\n",
              "    background-color: var(--bg-color);\n",
              "    border: none;\n",
              "    border-radius: 50%;\n",
              "    cursor: pointer;\n",
              "    display: none;\n",
              "    fill: var(--fill-color);\n",
              "    height: 32px;\n",
              "    padding: 0;\n",
              "    width: 32px;\n",
              "  }\n",
              "\n",
              "  .colab-df-quickchart:hover {\n",
              "    background-color: var(--hover-bg-color);\n",
              "    box-shadow: 0 1px 2px rgba(60, 64, 67, 0.3), 0 1px 3px 1px rgba(60, 64, 67, 0.15);\n",
              "    fill: var(--button-hover-fill-color);\n",
              "  }\n",
              "\n",
              "  .colab-df-quickchart-complete:disabled,\n",
              "  .colab-df-quickchart-complete:disabled:hover {\n",
              "    background-color: var(--disabled-bg-color);\n",
              "    fill: var(--disabled-fill-color);\n",
              "    box-shadow: none;\n",
              "  }\n",
              "\n",
              "  .colab-df-spinner {\n",
              "    border: 2px solid var(--fill-color);\n",
              "    border-color: transparent;\n",
              "    border-bottom-color: var(--fill-color);\n",
              "    animation:\n",
              "      spin 1s steps(1) infinite;\n",
              "  }\n",
              "\n",
              "  @keyframes spin {\n",
              "    0% {\n",
              "      border-color: transparent;\n",
              "      border-bottom-color: var(--fill-color);\n",
              "      border-left-color: var(--fill-color);\n",
              "    }\n",
              "    20% {\n",
              "      border-color: transparent;\n",
              "      border-left-color: var(--fill-color);\n",
              "      border-top-color: var(--fill-color);\n",
              "    }\n",
              "    30% {\n",
              "      border-color: transparent;\n",
              "      border-left-color: var(--fill-color);\n",
              "      border-top-color: var(--fill-color);\n",
              "      border-right-color: var(--fill-color);\n",
              "    }\n",
              "    40% {\n",
              "      border-color: transparent;\n",
              "      border-right-color: var(--fill-color);\n",
              "      border-top-color: var(--fill-color);\n",
              "    }\n",
              "    60% {\n",
              "      border-color: transparent;\n",
              "      border-right-color: var(--fill-color);\n",
              "    }\n",
              "    80% {\n",
              "      border-color: transparent;\n",
              "      border-right-color: var(--fill-color);\n",
              "      border-bottom-color: var(--fill-color);\n",
              "    }\n",
              "    90% {\n",
              "      border-color: transparent;\n",
              "      border-bottom-color: var(--fill-color);\n",
              "    }\n",
              "  }\n",
              "</style>\n",
              "\n",
              "  <script>\n",
              "    async function quickchart(key) {\n",
              "      const quickchartButtonEl =\n",
              "        document.querySelector('#' + key + ' button');\n",
              "      quickchartButtonEl.disabled = true;  // To prevent multiple clicks.\n",
              "      quickchartButtonEl.classList.add('colab-df-spinner');\n",
              "      try {\n",
              "        const charts = await google.colab.kernel.invokeFunction(\n",
              "            'suggestCharts', [key], {});\n",
              "      } catch (error) {\n",
              "        console.error('Error during call to suggestCharts:', error);\n",
              "      }\n",
              "      quickchartButtonEl.classList.remove('colab-df-spinner');\n",
              "      quickchartButtonEl.classList.add('colab-df-quickchart-complete');\n",
              "    }\n",
              "    (() => {\n",
              "      let quickchartButtonEl =\n",
              "        document.querySelector('#df-52ca997b-8215-49a7-a8f6-f2dc46fe3cb9 button');\n",
              "      quickchartButtonEl.style.display =\n",
              "        google.colab.kernel.accessAllowed ? 'block' : 'none';\n",
              "    })();\n",
              "  </script>\n",
              "</div>\n",
              "\n",
              "    </div>\n",
              "  </div>\n"
            ],
            "application/vnd.google.colaboratory.intrinsic+json": {
              "type": "dataframe",
              "summary": "{\n  \"name\": \"recommend_articles(0)\",\n  \"rows\": 5,\n  \"fields\": [\n    {\n      \"column\": \"Title\",\n      \"properties\": {\n        \"dtype\": \"string\",\n        \"num_unique_values\": 5,\n        \"samples\": [\n          \"Running GV sprints inside corporates\\u200a-\\u200alearn from my mistakes - Sprint Stories\",\n          \"Equal Pay Day in the spotlight this year\",\n          \"Ray Kurzweil: The world isn't getting worse - our information is getting better\"\n        ],\n        \"semantic_type\": \"\",\n        \"description\": \"\"\n      }\n    },\n    {\n      \"column\": \"Content_Nouns\",\n      \"properties\": {\n        \"dtype\": \"string\",\n        \"num_unique_values\": 5,\n        \"samples\": [\n          \"sprint corporates mistake venture sprint book design sprint process time share sprint help pitfall graphic interaction product designer manager call year lead designer consultant end work work client door iteration user feedback site client sprint difference problem sprint obstacle course sprint process environment sprint obstacle course problem point issue corporates mistake learning way issue mistake war war room drama space office hour week level loss meeting room space team booking people desk know room glass wall colleague head solution thing drama ceo book meeting room ceo name hide room system glass wall board move team meeting room book week week drama imminent meeting room week drama meeting room space wall plant building sort space attendance chaos war room team decider cameo rest time day company work team permission drop obligation mind sprint enthusiasm company team part permission list inbox meeting mind business problem ceo blessing pop attend team process attend laptop refuse briefing commitment people meeting time solution people time day day row day week run sprint hour day people mind rest day client day sprint day prototype team hour feedback change team user study client process result people team day sprint difference running process none compromise bit saboteur sight design partner process sense group war room mix people principle fence people subject matter expertise activity lead group question process litigate debate point solution opt meet week sprint chat cover process way team work company ask part way work people sprint go expert week team interview tease knowledge release responsibility avoidance sprint mistake facilitating process training people concept sprint process time constraint team behavior litigation limit progress team member result matter expert part sprint progress prototype result criticism process solution process team outcome way responsibility principle team team principle fall people prototype time others inboxes deadline responsibility people room rest team work thing prototypers source image write copy coffee others saboteur hiding people thing part sign deadline direction match preference behavior litigation others consensus facilitator job remind principle decider reiterate decision need principle room system ambiguity system body change individual outsider issue system way example decider sprint politics room litigate sprint customer user study team control message customer hearing team way team sprint team customer problem ambiguity designer year look process sprint weight ambiguity process team ambiguity question examine problem testing thing ambiguity sprint build confidence remove risk ambiguity weakness company train people people solution assumption watch talk solution ally place person organization culture ceo person access tackle issue head sprint team deadline show progress team result progress data transparency defense system spokesperson outsider voice process progress team member company rest impact get move project company obstacle behavior behavior group culture sprint facilitator option culture toxic team result line end sprint comment day solution team evidence defend case opinion team ambiguity system poison attempt change sprint team facilitator focus sprint team drama room foot fury people room break process process change lead uncertainty sprint team data transparency defense comfort team day result sprint ups process team series sprint guarantee result stakeholder sense issue company range issue sprint process detail place issue process group sprint issue company process sprint permission move step tension facilitator team atmosphere team people individual group ensure experiment experience sprint client case prototype customer feedback project sprint process obstacle course mind side process key organization ceo company problem group run process result obstacle leadership leader obstacle time sprint team day\",\n          \"woman money men woman cent dollar men income attention tuesday pay day mark year woman work catch men earnings year topic attention issue tech company pay discrepancy addition employment commission rule employer gender race paycheck amend prohibit retaliation wage disclosure penalty pay violation flurry survey report topic month mark pay day woman history month salary time year man disparity course career report committee staff retirement income woman percent men person age education year experience job title employer location pay gap men woman percent percent job review site glassdoor salary worker site gap job woman skill job segment labor force poverty job bachelor degree year study month policy research woman chance promotion point career industry study sector time woman door entry level position energy technology manufacturing graduation rate woman feeder program engineering aelejalderuiz tribpub twitter alexiaer\",\n          \"author inventor computer scientist futurist speaker afternoon postback conference marketing company tune topic technology kurzweil world smartphones humanity highlight talk effect information people world see country people world perception information world century battle village incident globe experience genomics code life ability engineer software gene software program metaphor sequence data year year technology change humanity need city train trip world percent land use boondocks people play level communication workgroups immersion reality system reality brain brain extenders brain brain extenders smartphone brain extender brain search language translation type thing mobile apps scope brain machine displace human going merge device thing brain extenders\"\n        ],\n        \"semantic_type\": \"\",\n        \"description\": \"\"\n      }\n    }\n  ]\n}"
            }
          },
          "metadata": {},
          "execution_count": 17
        }
      ]
    },
    {
      "cell_type": "code",
      "source": [
        "user_recommendations = []\n",
        "\n",
        "for encoded_user_id in merged_df['userID'].unique():\n",
        "    # 추천 기사 인덱스 가져오기\n",
        "    recommended_articles = recommend_articles(encoded_user_id)\n",
        "\n",
        "    # 원래 유저 아이디로 역변환\n",
        "    original_user_id = user_label_encoder.inverse_transform([encoded_user_id])[0]\n",
        "\n",
        "    for idx in recommended_articles.index:\n",
        "        # 원래 기사 아이디로 역변환\n",
        "        original_article_id = article_label_encoder.inverse_transform([merged_df.loc[idx, 'articleID']])[0]\n",
        "\n",
        "        # 추천 결과를 리스트에 저장\n",
        "        user_recommendations.append({\n",
        "            'userID': original_user_id,\n",
        "            'articleID': original_article_id\n",
        "        })"
      ],
      "metadata": {
        "id": "LAw_OBAs4kqt"
      },
      "execution_count": null,
      "outputs": []
    },
    {
      "cell_type": "code",
      "source": [
        "submission = pd.read_csv(\"/content/drive/MyDrive/웹 기사 추천시스템/sample_submission.csv\")  # 유저 로그 데이터"
      ],
      "metadata": {
        "id": "QLgFFiwMhf1I"
      },
      "execution_count": null,
      "outputs": []
    },
    {
      "cell_type": "code",
      "source": [
        "recommendations_df = pd.DataFrame(user_recommendations)\n",
        "\n",
        "# sample_submission.csv 형태로 DataFrame 생성\n",
        "submission = submission[['userID']].merge(recommendations_df, on='userID', how='left')\n",
        "submission = submission[['userID', 'articleID']]\n",
        "\n",
        "submission.to_csv('hybrid_recommendations_V1.csv', index=False)"
      ],
      "metadata": {
        "id": "ft5yCUNn3u1n"
      },
      "execution_count": null,
      "outputs": []
    }
  ]
}