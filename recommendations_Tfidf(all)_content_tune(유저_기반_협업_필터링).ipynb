{
  "nbformat": 4,
  "nbformat_minor": 0,
  "metadata": {
    "colab": {
      "provenance": [],
      "mount_file_id": "1kKyQ67JU92kHxLWEctIDkkMroElt2Xo7",
      "authorship_tag": "ABX9TyNn8uEdNCzo0msaMm/rpnWr",
      "include_colab_link": true
    },
    "kernelspec": {
      "name": "python3",
      "display_name": "Python 3"
    },
    "language_info": {
      "name": "python"
    }
  },
  "cells": [
    {
      "cell_type": "markdown",
      "metadata": {
        "id": "view-in-github",
        "colab_type": "text"
      },
      "source": [
        "<a href=\"https://colab.research.google.com/github/sh-0620/dacon-recommender-system/blob/main/recommendations_Tfidf(all)_content_tune(%EC%9C%A0%EC%A0%80_%EA%B8%B0%EB%B0%98_%ED%98%91%EC%97%85_%ED%95%84%ED%84%B0%EB%A7%81).ipynb\" target=\"_parent\"><img src=\"https://colab.research.google.com/assets/colab-badge.svg\" alt=\"Open In Colab\"/></a>"
      ]
    },
    {
      "cell_type": "code",
      "source": [
        "import pandas as pd\n",
        "import numpy as np\n",
        "from sklearn.feature_extraction.text import TfidfVectorizer\n",
        "from sklearn.preprocessing import OneHotEncoder, LabelEncoder\n",
        "from sklearn.metrics.pairwise import cosine_similarity\n",
        "from collections import defaultdict\n",
        "\n",
        "# CSV 파일 로드\n",
        "log_df = pd.read_csv(\"/content/drive/MyDrive/웹 기사 추천시스템/view_log.csv\")  # 유저 로그 데이터\n",
        "article__df = pd.read_csv(\"/content/drive/MyDrive/웹 기사 추천시스템/article_info.csv\")  # 기사 데이터\n",
        "article_nouns_df = pd.read_csv(\"/content/drive/MyDrive/웹 기사 추천시스템/article_nouns.csv\")  # 기사 데이터"
      ],
      "metadata": {
        "id": "pWvLTs74aG2N"
      },
      "execution_count": null,
      "outputs": []
    },
    {
      "cell_type": "code",
      "source": [
        "article_nouns_df.head()"
      ],
      "metadata": {
        "colab": {
          "base_uri": "https://localhost:8080/",
          "height": 695
        },
        "collapsed": true,
        "id": "vje9BOGRBm5Q",
        "outputId": "8ba76594-e345-432d-b072-10fb67940167"
      },
      "execution_count": null,
      "outputs": [
        {
          "output_type": "execute_result",
          "data": {
            "text/plain": [
              "   Unnamed: 0     articleID  \\\n",
              "0           0  ARTICLE_0000   \n",
              "1           1  ARTICLE_0001   \n",
              "2           2  ARTICLE_0002   \n",
              "3           3  ARTICLE_0003   \n",
              "4           4  ARTICLE_0004   \n",
              "\n",
              "                                               Title  \\\n",
              "0                       19 Tips For Everyday Git Use   \n",
              "1  Intel buys computer vision startup Itseez to i...   \n",
              "2       Practical End-to-End Testing with Protractor   \n",
              "3  Corporate venture growth in Brazil is another ...   \n",
              "4  Cross-channel user experiences with Drupal (aw...   \n",
              "\n",
              "                                             Content Format Language  \\\n",
              "0  using git full time past year wanted share pra...   HTML       en   \n",
              "1  intel acquired computer vision machine learnin...   HTML       en   \n",
              "2  one reason angularjs great work developed arou...   HTML       en   \n",
              "3  despite recent positive news renewed interest ...   HTML       en   \n",
              "4  last year around time wrote big reverse web wo...   HTML       en   \n",
              "\n",
              "      userID userCountry userRegion  \\\n",
              "0  USER_0683         NaN        NaN   \n",
              "1  USER_1129         NaN        NaN   \n",
              "2  USER_0256         NaN        NaN   \n",
              "3  USER_1304         NaN        NaN   \n",
              "4  USER_0336         NaN        NaN   \n",
              "\n",
              "                                       Content_Nouns  \n",
              "0  git time year share tip way git git cheat shee...  \n",
              "1  computer vision machine learning startup itsee...  \n",
              "2  reason work idea framework check source core t...  \n",
              "3  news interest investor country tsumoney crude ...  \n",
              "4  year time web architecture web information per...  "
            ],
            "text/html": [
              "\n",
              "  <div id=\"df-ec640069-a2d7-4b03-8096-5e5e65a62cfe\" class=\"colab-df-container\">\n",
              "    <div>\n",
              "<style scoped>\n",
              "    .dataframe tbody tr th:only-of-type {\n",
              "        vertical-align: middle;\n",
              "    }\n",
              "\n",
              "    .dataframe tbody tr th {\n",
              "        vertical-align: top;\n",
              "    }\n",
              "\n",
              "    .dataframe thead th {\n",
              "        text-align: right;\n",
              "    }\n",
              "</style>\n",
              "<table border=\"1\" class=\"dataframe\">\n",
              "  <thead>\n",
              "    <tr style=\"text-align: right;\">\n",
              "      <th></th>\n",
              "      <th>Unnamed: 0</th>\n",
              "      <th>articleID</th>\n",
              "      <th>Title</th>\n",
              "      <th>Content</th>\n",
              "      <th>Format</th>\n",
              "      <th>Language</th>\n",
              "      <th>userID</th>\n",
              "      <th>userCountry</th>\n",
              "      <th>userRegion</th>\n",
              "      <th>Content_Nouns</th>\n",
              "    </tr>\n",
              "  </thead>\n",
              "  <tbody>\n",
              "    <tr>\n",
              "      <th>0</th>\n",
              "      <td>0</td>\n",
              "      <td>ARTICLE_0000</td>\n",
              "      <td>19 Tips For Everyday Git Use</td>\n",
              "      <td>using git full time past year wanted share pra...</td>\n",
              "      <td>HTML</td>\n",
              "      <td>en</td>\n",
              "      <td>USER_0683</td>\n",
              "      <td>NaN</td>\n",
              "      <td>NaN</td>\n",
              "      <td>git time year share tip way git git cheat shee...</td>\n",
              "    </tr>\n",
              "    <tr>\n",
              "      <th>1</th>\n",
              "      <td>1</td>\n",
              "      <td>ARTICLE_0001</td>\n",
              "      <td>Intel buys computer vision startup Itseez to i...</td>\n",
              "      <td>intel acquired computer vision machine learnin...</td>\n",
              "      <td>HTML</td>\n",
              "      <td>en</td>\n",
              "      <td>USER_1129</td>\n",
              "      <td>NaN</td>\n",
              "      <td>NaN</td>\n",
              "      <td>computer vision machine learning startup itsee...</td>\n",
              "    </tr>\n",
              "    <tr>\n",
              "      <th>2</th>\n",
              "      <td>2</td>\n",
              "      <td>ARTICLE_0002</td>\n",
              "      <td>Practical End-to-End Testing with Protractor</td>\n",
              "      <td>one reason angularjs great work developed arou...</td>\n",
              "      <td>HTML</td>\n",
              "      <td>en</td>\n",
              "      <td>USER_0256</td>\n",
              "      <td>NaN</td>\n",
              "      <td>NaN</td>\n",
              "      <td>reason work idea framework check source core t...</td>\n",
              "    </tr>\n",
              "    <tr>\n",
              "      <th>3</th>\n",
              "      <td>3</td>\n",
              "      <td>ARTICLE_0003</td>\n",
              "      <td>Corporate venture growth in Brazil is another ...</td>\n",
              "      <td>despite recent positive news renewed interest ...</td>\n",
              "      <td>HTML</td>\n",
              "      <td>en</td>\n",
              "      <td>USER_1304</td>\n",
              "      <td>NaN</td>\n",
              "      <td>NaN</td>\n",
              "      <td>news interest investor country tsumoney crude ...</td>\n",
              "    </tr>\n",
              "    <tr>\n",
              "      <th>4</th>\n",
              "      <td>4</td>\n",
              "      <td>ARTICLE_0004</td>\n",
              "      <td>Cross-channel user experiences with Drupal (aw...</td>\n",
              "      <td>last year around time wrote big reverse web wo...</td>\n",
              "      <td>HTML</td>\n",
              "      <td>en</td>\n",
              "      <td>USER_0336</td>\n",
              "      <td>NaN</td>\n",
              "      <td>NaN</td>\n",
              "      <td>year time web architecture web information per...</td>\n",
              "    </tr>\n",
              "  </tbody>\n",
              "</table>\n",
              "</div>\n",
              "    <div class=\"colab-df-buttons\">\n",
              "\n",
              "  <div class=\"colab-df-container\">\n",
              "    <button class=\"colab-df-convert\" onclick=\"convertToInteractive('df-ec640069-a2d7-4b03-8096-5e5e65a62cfe')\"\n",
              "            title=\"Convert this dataframe to an interactive table.\"\n",
              "            style=\"display:none;\">\n",
              "\n",
              "  <svg xmlns=\"http://www.w3.org/2000/svg\" height=\"24px\" viewBox=\"0 -960 960 960\">\n",
              "    <path d=\"M120-120v-720h720v720H120Zm60-500h600v-160H180v160Zm220 220h160v-160H400v160Zm0 220h160v-160H400v160ZM180-400h160v-160H180v160Zm440 0h160v-160H620v160ZM180-180h160v-160H180v160Zm440 0h160v-160H620v160Z\"/>\n",
              "  </svg>\n",
              "    </button>\n",
              "\n",
              "  <style>\n",
              "    .colab-df-container {\n",
              "      display:flex;\n",
              "      gap: 12px;\n",
              "    }\n",
              "\n",
              "    .colab-df-convert {\n",
              "      background-color: #E8F0FE;\n",
              "      border: none;\n",
              "      border-radius: 50%;\n",
              "      cursor: pointer;\n",
              "      display: none;\n",
              "      fill: #1967D2;\n",
              "      height: 32px;\n",
              "      padding: 0 0 0 0;\n",
              "      width: 32px;\n",
              "    }\n",
              "\n",
              "    .colab-df-convert:hover {\n",
              "      background-color: #E2EBFA;\n",
              "      box-shadow: 0px 1px 2px rgba(60, 64, 67, 0.3), 0px 1px 3px 1px rgba(60, 64, 67, 0.15);\n",
              "      fill: #174EA6;\n",
              "    }\n",
              "\n",
              "    .colab-df-buttons div {\n",
              "      margin-bottom: 4px;\n",
              "    }\n",
              "\n",
              "    [theme=dark] .colab-df-convert {\n",
              "      background-color: #3B4455;\n",
              "      fill: #D2E3FC;\n",
              "    }\n",
              "\n",
              "    [theme=dark] .colab-df-convert:hover {\n",
              "      background-color: #434B5C;\n",
              "      box-shadow: 0px 1px 3px 1px rgba(0, 0, 0, 0.15);\n",
              "      filter: drop-shadow(0px 1px 2px rgba(0, 0, 0, 0.3));\n",
              "      fill: #FFFFFF;\n",
              "    }\n",
              "  </style>\n",
              "\n",
              "    <script>\n",
              "      const buttonEl =\n",
              "        document.querySelector('#df-ec640069-a2d7-4b03-8096-5e5e65a62cfe button.colab-df-convert');\n",
              "      buttonEl.style.display =\n",
              "        google.colab.kernel.accessAllowed ? 'block' : 'none';\n",
              "\n",
              "      async function convertToInteractive(key) {\n",
              "        const element = document.querySelector('#df-ec640069-a2d7-4b03-8096-5e5e65a62cfe');\n",
              "        const dataTable =\n",
              "          await google.colab.kernel.invokeFunction('convertToInteractive',\n",
              "                                                    [key], {});\n",
              "        if (!dataTable) return;\n",
              "\n",
              "        const docLinkHtml = 'Like what you see? Visit the ' +\n",
              "          '<a target=\"_blank\" href=https://colab.research.google.com/notebooks/data_table.ipynb>data table notebook</a>'\n",
              "          + ' to learn more about interactive tables.';\n",
              "        element.innerHTML = '';\n",
              "        dataTable['output_type'] = 'display_data';\n",
              "        await google.colab.output.renderOutput(dataTable, element);\n",
              "        const docLink = document.createElement('div');\n",
              "        docLink.innerHTML = docLinkHtml;\n",
              "        element.appendChild(docLink);\n",
              "      }\n",
              "    </script>\n",
              "  </div>\n",
              "\n",
              "\n",
              "<div id=\"df-353cded0-91c8-4395-929b-2da9c6e9c45a\">\n",
              "  <button class=\"colab-df-quickchart\" onclick=\"quickchart('df-353cded0-91c8-4395-929b-2da9c6e9c45a')\"\n",
              "            title=\"Suggest charts\"\n",
              "            style=\"display:none;\">\n",
              "\n",
              "<svg xmlns=\"http://www.w3.org/2000/svg\" height=\"24px\"viewBox=\"0 0 24 24\"\n",
              "     width=\"24px\">\n",
              "    <g>\n",
              "        <path d=\"M19 3H5c-1.1 0-2 .9-2 2v14c0 1.1.9 2 2 2h14c1.1 0 2-.9 2-2V5c0-1.1-.9-2-2-2zM9 17H7v-7h2v7zm4 0h-2V7h2v10zm4 0h-2v-4h2v4z\"/>\n",
              "    </g>\n",
              "</svg>\n",
              "  </button>\n",
              "\n",
              "<style>\n",
              "  .colab-df-quickchart {\n",
              "      --bg-color: #E8F0FE;\n",
              "      --fill-color: #1967D2;\n",
              "      --hover-bg-color: #E2EBFA;\n",
              "      --hover-fill-color: #174EA6;\n",
              "      --disabled-fill-color: #AAA;\n",
              "      --disabled-bg-color: #DDD;\n",
              "  }\n",
              "\n",
              "  [theme=dark] .colab-df-quickchart {\n",
              "      --bg-color: #3B4455;\n",
              "      --fill-color: #D2E3FC;\n",
              "      --hover-bg-color: #434B5C;\n",
              "      --hover-fill-color: #FFFFFF;\n",
              "      --disabled-bg-color: #3B4455;\n",
              "      --disabled-fill-color: #666;\n",
              "  }\n",
              "\n",
              "  .colab-df-quickchart {\n",
              "    background-color: var(--bg-color);\n",
              "    border: none;\n",
              "    border-radius: 50%;\n",
              "    cursor: pointer;\n",
              "    display: none;\n",
              "    fill: var(--fill-color);\n",
              "    height: 32px;\n",
              "    padding: 0;\n",
              "    width: 32px;\n",
              "  }\n",
              "\n",
              "  .colab-df-quickchart:hover {\n",
              "    background-color: var(--hover-bg-color);\n",
              "    box-shadow: 0 1px 2px rgba(60, 64, 67, 0.3), 0 1px 3px 1px rgba(60, 64, 67, 0.15);\n",
              "    fill: var(--button-hover-fill-color);\n",
              "  }\n",
              "\n",
              "  .colab-df-quickchart-complete:disabled,\n",
              "  .colab-df-quickchart-complete:disabled:hover {\n",
              "    background-color: var(--disabled-bg-color);\n",
              "    fill: var(--disabled-fill-color);\n",
              "    box-shadow: none;\n",
              "  }\n",
              "\n",
              "  .colab-df-spinner {\n",
              "    border: 2px solid var(--fill-color);\n",
              "    border-color: transparent;\n",
              "    border-bottom-color: var(--fill-color);\n",
              "    animation:\n",
              "      spin 1s steps(1) infinite;\n",
              "  }\n",
              "\n",
              "  @keyframes spin {\n",
              "    0% {\n",
              "      border-color: transparent;\n",
              "      border-bottom-color: var(--fill-color);\n",
              "      border-left-color: var(--fill-color);\n",
              "    }\n",
              "    20% {\n",
              "      border-color: transparent;\n",
              "      border-left-color: var(--fill-color);\n",
              "      border-top-color: var(--fill-color);\n",
              "    }\n",
              "    30% {\n",
              "      border-color: transparent;\n",
              "      border-left-color: var(--fill-color);\n",
              "      border-top-color: var(--fill-color);\n",
              "      border-right-color: var(--fill-color);\n",
              "    }\n",
              "    40% {\n",
              "      border-color: transparent;\n",
              "      border-right-color: var(--fill-color);\n",
              "      border-top-color: var(--fill-color);\n",
              "    }\n",
              "    60% {\n",
              "      border-color: transparent;\n",
              "      border-right-color: var(--fill-color);\n",
              "    }\n",
              "    80% {\n",
              "      border-color: transparent;\n",
              "      border-right-color: var(--fill-color);\n",
              "      border-bottom-color: var(--fill-color);\n",
              "    }\n",
              "    90% {\n",
              "      border-color: transparent;\n",
              "      border-bottom-color: var(--fill-color);\n",
              "    }\n",
              "  }\n",
              "</style>\n",
              "\n",
              "  <script>\n",
              "    async function quickchart(key) {\n",
              "      const quickchartButtonEl =\n",
              "        document.querySelector('#' + key + ' button');\n",
              "      quickchartButtonEl.disabled = true;  // To prevent multiple clicks.\n",
              "      quickchartButtonEl.classList.add('colab-df-spinner');\n",
              "      try {\n",
              "        const charts = await google.colab.kernel.invokeFunction(\n",
              "            'suggestCharts', [key], {});\n",
              "      } catch (error) {\n",
              "        console.error('Error during call to suggestCharts:', error);\n",
              "      }\n",
              "      quickchartButtonEl.classList.remove('colab-df-spinner');\n",
              "      quickchartButtonEl.classList.add('colab-df-quickchart-complete');\n",
              "    }\n",
              "    (() => {\n",
              "      let quickchartButtonEl =\n",
              "        document.querySelector('#df-353cded0-91c8-4395-929b-2da9c6e9c45a button');\n",
              "      quickchartButtonEl.style.display =\n",
              "        google.colab.kernel.accessAllowed ? 'block' : 'none';\n",
              "    })();\n",
              "  </script>\n",
              "</div>\n",
              "\n",
              "    </div>\n",
              "  </div>\n"
            ],
            "application/vnd.google.colaboratory.intrinsic+json": {
              "type": "dataframe",
              "variable_name": "article_nouns_df",
              "summary": "{\n  \"name\": \"article_nouns_df\",\n  \"rows\": 3008,\n  \"fields\": [\n    {\n      \"column\": \"Unnamed: 0\",\n      \"properties\": {\n        \"dtype\": \"number\",\n        \"std\": 868,\n        \"min\": 0,\n        \"max\": 3007,\n        \"num_unique_values\": 3008,\n        \"samples\": [\n          744,\n          678,\n          2290\n        ],\n        \"semantic_type\": \"\",\n        \"description\": \"\"\n      }\n    },\n    {\n      \"column\": \"articleID\",\n      \"properties\": {\n        \"dtype\": \"string\",\n        \"num_unique_values\": 3008,\n        \"samples\": [\n          \"ARTICLE_0744\",\n          \"ARTICLE_0678\",\n          \"ARTICLE_2290\"\n        ],\n        \"semantic_type\": \"\",\n        \"description\": \"\"\n      }\n    },\n    {\n      \"column\": \"Title\",\n      \"properties\": {\n        \"dtype\": \"string\",\n        \"num_unique_values\": 3008,\n        \"samples\": [\n          \"Startups matam. E suas v\\u00edtimas s\\u00e3o as empresas que ainda n\\u00e3o entendem o que \\u00e9 a Economia do Acesso\",\n          \"CNseg anuncia os finalistas da 6\\u00aa edi\\u00e7\\u00e3o do Pr\\u00eamio de Inova\\u00e7\\u00e3o em Seguros - Sonho Seguro\",\n          \"Drone believed to have hit British Airways flight 'may have been a plastic bag'\"\n        ],\n        \"semantic_type\": \"\",\n        \"description\": \"\"\n      }\n    },\n    {\n      \"column\": \"Content\",\n      \"properties\": {\n        \"dtype\": \"string\",\n        \"num_unique_values\": 3004,\n        \"samples\": [\n          \"lot thing make application slow talk going explore application performance bottom looking real world performance impact swift feature protocol generic structs class context data parsing mapping persistence identify key bottleneck well performance gain swift give introduction 00 going talk swift performance building software especially mobile software people distracted busy want get life rather deal application frustrating apps slow user want want important make code fast make code slow writing code choosing abstraction important cognizant implication abstraction going start talking understand trade offs opting dynamic versus static dispatch thing allocated choose best fit one biggest often unavoidable cost code object allocation deallocation swift automatically allocate deallocate memory two type allocation first stack based allocation swift allocate memory stack stack super simple data structure push end pop top mutate end stack implement keeping pointer end allocating deallocating memory case reassigning integer heap allocation allows allocate memory far dynamic lifetime requires much complex data structure allocate memory heap lock free block heap enough size hold object find unused block allocate want deallocate memory search reinsert block slow mostly lock synchronize thing purpose thread safety reference counting 30 also reference counting slightly le expensive happens way often still pain reference counting mechanism used objective swift determine safe release object day reference counting forced automatic swift mean much easier ignore however work instrument code slow see 20 000 call swift retainer release taking 90 time function take object thing object compiler automatically insert retain release object go away lifetime method retains release atomic operation therefore slow rather know make much faster already dispatch object 28 also dispatch swift three type dispatch inline function possible additional cost function call static dispatch table essentially lookup jump take one nanosecond dynamic dispatch take five nanosecond really problem method call inside nested loop performing thousand operation start add swift also two main type object class class everything allocated heap see class index two property section item create stack pointer index heap section item make another reference two pointer area heap shared memory also automatically insert retain second reference object lot people say structs easiest way write fast swift code generally good thing try put thing stack often static inline dispatch swift structs three word stack storage struct three fewer property struct value generally inline stack word size built integer cpu chunk cpu work see create struct index struct section item value directly stack extra allocation occurred happens assign thing elsewhere assign simply copy value already stack share reference get value semantics happens reference type struct struct inline pointer assign elsewhere pointer shared across two structs two retains pointer rather single retain object expensive class example result abstraction 59 said swift provides lot different abstraction allow make decision code run performance characteristic going look applies actual code simple code circle radius center three word storage stack create one hundred million loop circle call single function computer take second release mode happens requirement change rather drawing circle code need able handle multiple type shape let say need draw line super excited protocol oriented programming allows polymorphism without inheritance allows think type tech like extract protocol simple change referencing array protocol make code take second run 1300 slowdown code previously able statically dispatched executed without heap application cannot done protocol implemented example see know circle swift compiler either go though table inline draw function directly inside loop reference protocol know whether object struct class could anything conforms protocol go dispatching draw function answer lie protocol witness table object known layout generated every protocol performance application table essentially act alias underlying implementation code actually get protocol witness table answer existential container three word storage structs fit inside value buffer reference protocol witness table circle fit inside three word buffer referenced separately line example four word storage two point slide basically source kit service terminated line struct requires four word storage affect performance code well happens take 45 second execute take much longer happening portion time spent allocating structs fit within three word buffer storage allocated heap also partially related protocol work existential container three word storage structs reference object also need something called value witness table use handle arbitrary value value witness table also created three word storage value buffer inline structs generalizes allocation copying destruction deallocation value class example code generated draw function took value create line pas drawable function actually happens pass drawable existential container created inside function copy value protocol witness table allocate new buffer copy value struct class whatever object use draw function protocol witness table pas actual drawable see value witness table protocol witness table stack line heap line drawable modelling data conclusion 12 15 simple change way model data huge impact performance let look way avoid cost let talk generic going say showed protocol could really slow would want use generic answer come generic allow say stack struct generic constrained type would protocol compiler replace protocol concrete class passing way function chain create specialized version code operate directly type longer need go value witness table protocol witness table eradicate existential container could really nice way still write really fast generic code really nice polymorphism swift give called static polymorphism also improve lot data model using enumeration rather lot string server example building social network bunch account needed status previously might raw string type enum actually need allocate anything passing around passing value enum really nice way speed code well safer readable code throughout application also super useful actual domain specific model form model presenter various type abstraction allow cut lot cruft need app think run slightly short thank much\",\n          \"editor note xuchen yao co founder ceo guoguo chen kenji sagae co founder kitt ai daniel li associate madrona venture group chatbots offer promise frictionless access good service information creating effective bot deceptively tricky flip side opportunity interact user seamless natural way user expectation prohibitively high bot need smart provide greater convenience apps effective ui paradigm tailored today mobile device carefully refined decade good news belief bot must master human language replace apps succeed false bot engage consumer new way combine strength human machine allow structured unstructured information exchanged naturally efficiently communication velocity one simple intuitive way measure effectiveness communication look amount information exchanged per unit time framework text sm chat email speech phone call interaction differ amount information produced versus consumed typically produce 120 140 word per minute speaking typically write type 40 70 word per minute look speed information consumption reading speed english upwards 200 word per minute listening speed limited 120 140 word per minute speech production sm chat apps adapted increase text production speed autocorrect feature novel keyboard text production human always slower consumption imagine however friend type draw look information find gifs superhuman speed produce button menu picture make input faster better yet enhanced input much easier friend understand take away flexibility familiarity natural language needed may quite yet close especially well constructed bot certain platform look feature different bot platform shaping human bot communication toward efficient robust natural ui paradigm quick reply button quick reply button simple convenient way save user time prevent unexpected input unique human bot communication button trivial bot create easy human use benefit include enhanced communication speed bot comprehension facebook telegram kik bot quick reply button slightly different name bot sephora bot kik use quick reply button primary mode communication slack still lack quick reply button message button associated action telegram custom keyboard facebook messenger quick reply kik suggested response keyboard callback button callback button similar quick reply button allow broader range potential interaction callback button clicked generates http call registered webhook trigger predefined action callback button great way provide feedback also provide deeper analytics opportunity bot backend slack message button messenger postback button telegram callback button structured information sharing sharing information easily parsed programmatically take exchange structured information clunky language paradigm easy unambiguous hybrid paradigm instance sharing location like 3rd madison ambiguous slow human machine parse shared gps coordinate quickly displayed map service understood bot telegram sendcontact sendlocation facebook messenger location sharing bot mention inline bot great way quickly obtain send share information chat without need jump current interface go another chat current app go another app instead multiple tap menu perform specific function mention bot allows one line interaction allowing bot share conversational context one another also greatly increase speed interaction user longer need input data communication telegram inline bot slack bot mention following table summarizes added language touch functionality provided four popular chat bot platform feature represent beginning hybrid communication paradigm enable efficient effective communication bot quick reply button save user time improve machine comprehension callback button provide call action back end analytics structured info sharing easily share machine readable information bot mention make bot always present easily accessible bot use language touch hybrid communication pattern several way still take ui mechanic button callback build better bot build system starting human loop identify common communication pattern exception pattern optimize dialogue two channel fast slow communication clear well defined response reply yes buy open ended message tell new taylor swift record come use callback function even without native integration complicated task take user chat move point click touch interface better suited task hand consider moving platform better optimized new human machine interaction ai nlp long way go bot achieve human level communication however happens new method human machine communication leverage strength human machine create new interaction paradigm natural language featured image bryce durbin\",\n          \"paulo walmart anunciou hoje aquisi\\u00e7\\u00e3o jet startup com\\u00e9rcio eletr\\u00f4nico bilh\\u00f5es dinheiro 300 milh\\u00f5es a\\u00e7\\u00f5es compra ir\\u00e1 impulsionar vendas site aplicativo fazer frente crescimento acelerado maior concorrente amazon \\u00faltima confer\\u00eancia analistas ceo walmart doug mcmillon afirmou vendas online evoluem lentamente empresa precisava expandir n\\u00famero produtos vendidos parceiros plataforma aquisi\\u00e7\\u00e3o bilion\\u00e1ria buscando maneiras cortar pre\\u00e7os ampliar sortimento oferecer experi\\u00eancia compra simple f\\u00e1cil poss\\u00edvel porque consumidores querem afirmou empresa dificuldade acompanhar r\\u00e1pida evolu\\u00e7\\u00e3o rival angaria p\\u00fablico fiel pagante n\\u00famero assinantes amazon chamados prime ultrapassou pagantes alcan\\u00e7ar 63 milh\\u00f5es junho entregas hora descontos especiais t\\u00eam poucos motivos fazer compras concorrentes enquanto walmart faturou 14 bilh\\u00f5es vendas online \\u00faltimo ano apenas receitas totais faturamento 107 bilh\\u00f5es incluindo servi\\u00e7o nuvem unic\\u00f3rnio jet pode ajudar nessa disputa com\\u00e9rcios eletr\\u00f4nicos cresce lan\\u00e7ado 2015 alcan\\u00e7ou pouco tempo 12 milh\\u00f5es usu\\u00e1rios \\u00fanicos m\\u00eas ainda jovem entrou seleto grupo startup t\\u00eam valor mercado bilh\\u00e3o chamados unic\\u00f3rnios site recebe cerca 400 000 novos consumidores mensalmente 25 000 pedidos todo dia promete pre\\u00e7os 10 15 baixos concorrentes promessa certamente chamou aten\\u00e7\\u00e3o ainda custo milh\\u00f5es d\\u00f3lares marketing reduzir custos frente oferece descontos pedidos grandes muitas mercadorias enviadas junta marketplace 400 lojistas fundadores startup marc lore mike hanrahan nate faust lore hoje ceo jet fundou quidsi empresa dona site diaper soap wag vendida posi\\u00e7\\u00e3o lideran\\u00e7a divis\\u00e3o vendas line walmart atual executivo \\u00e1rea neil ashe sair\\u00e1 companhia afirmou wall street journal walmart jet continuar\\u00e3o atuando marcas distintas enquanto gigante manter\\u00e1 estrat\\u00e9gia pre\\u00e7os baixos todo dia jet buscar\\u00e1 atrair jovens sele\\u00e7\\u00e3o produtos experi\\u00eancia compra voltada p\\u00fablico startup ainda ganha acesso infraestrutura varejista centros distribui\\u00e7\\u00e3o estados unidos opera\\u00e7\\u00e3o precisa aprovada \\u00f3rg\\u00e3os reguladores\"\n        ],\n        \"semantic_type\": \"\",\n        \"description\": \"\"\n      }\n    },\n    {\n      \"column\": \"Format\",\n      \"properties\": {\n        \"dtype\": \"category\",\n        \"num_unique_values\": 3,\n        \"samples\": [\n          \"HTML\",\n          \"VIDEO\",\n          \"RICH\"\n        ],\n        \"semantic_type\": \"\",\n        \"description\": \"\"\n      }\n    },\n    {\n      \"column\": \"Language\",\n      \"properties\": {\n        \"dtype\": \"category\",\n        \"num_unique_values\": 5,\n        \"samples\": [\n          \"pt\",\n          \"ja\",\n          \"es\"\n        ],\n        \"semantic_type\": \"\",\n        \"description\": \"\"\n      }\n    },\n    {\n      \"column\": \"userID\",\n      \"properties\": {\n        \"dtype\": \"category\",\n        \"num_unique_values\": 251,\n        \"samples\": [\n          \"USER_0466\",\n          \"USER_0827\",\n          \"USER_0338\"\n        ],\n        \"semantic_type\": \"\",\n        \"description\": \"\"\n      }\n    },\n    {\n      \"column\": \"userCountry\",\n      \"properties\": {\n        \"dtype\": \"category\",\n        \"num_unique_values\": 5,\n        \"samples\": [\n          \"AU\",\n          \"PT\",\n          \"US\"\n        ],\n        \"semantic_type\": \"\",\n        \"description\": \"\"\n      }\n    },\n    {\n      \"column\": \"userRegion\",\n      \"properties\": {\n        \"dtype\": \"category\",\n        \"num_unique_values\": 17,\n        \"samples\": [\n          \"SP\",\n          \"RJ\",\n          \"NY\"\n        ],\n        \"semantic_type\": \"\",\n        \"description\": \"\"\n      }\n    },\n    {\n      \"column\": \"Content_Nouns\",\n      \"properties\": {\n        \"dtype\": \"string\",\n        \"num_unique_values\": 3003,\n        \"samples\": [\n          \"executive intelligence want disrupt industry reinvent company medium picture power world web search advertising commerce finance logistics founding lead brain team director intelligence laboratory team people nurture world group ai product people impact industry magic implication business hype today breadth impact type progress type input data response example input output industry term building software sentient robot science intelligence system today technology learning network brain system science fiction researcher form context level intelligence path goal today software achilles heel amount data show system lot example instance photo tagger picture label tag people speech recognition system hour audio rule thumb person task thought using lot work human security video behavior car pedestrian finding post task automation context business process linkage rest business work data help figure relationship industry understanding step executive strategy understanding value copy community researcher idea source code world source resource data team others software year access data data barrier business talent source software data work business context data war scarce talent work reflect humanity example conversation discrimination harm term job displacement amount work automate leader incumbent building world opportunity understanding strategy end process\",\n          \"observation wave signal coalescence hole signal detector laser wave observatory utc signal filter search coalescence line analysis network signal noise ratio significance signal band frequency amplitude cycle hz strain source frame hole hole mass component hole source luminosity distance redshift uncertainty interval wave observation constraint population deviation relativity doi article term attribution license distribution work attribution author article title citation society\",\n          \"copel provedoras limite empresa redes dia empresa bairros usu\\u00e1rios empresa limite pontos companhia pe\\u00e7as situa\\u00e7\\u00e3o mercado propaganda pena sul amigo site patr\\u00e3o site vantagens acesso dia mundo acesso patr\\u00e3o cast semana cast cast podcast\"\n        ],\n        \"semantic_type\": \"\",\n        \"description\": \"\"\n      }\n    }\n  ]\n}"
            }
          },
          "metadata": {},
          "execution_count": 8
        }
      ]
    },
    {
      "cell_type": "code",
      "source": [
        "article_nouns_df = article_nouns_df.drop(['userCountry', 'userRegion', 'userID'], axis=1)"
      ],
      "metadata": {
        "id": "lF5psW-mUY9W"
      },
      "execution_count": null,
      "outputs": []
    },
    {
      "cell_type": "code",
      "source": [
        "merged_df = pd.merge(log_df, article_nouns_df, on='articleID')"
      ],
      "metadata": {
        "id": "fydMBRahinru"
      },
      "execution_count": null,
      "outputs": []
    },
    {
      "cell_type": "code",
      "source": [
        "# 기사 데이터 중 로그 데이터에 없는 기사 제거\n",
        "article_nouns_df  = article_nouns_df[article_nouns_df['articleID'].isin(merged_df['articleID'].unique())]"
      ],
      "metadata": {
        "id": "lOgq9-oNixkS"
      },
      "execution_count": null,
      "outputs": []
    },
    {
      "cell_type": "code",
      "source": [
        "# 라벨 인코더 생성 및 article_id 변환\n",
        "# article_label_encoder = LabelEncoder()\n",
        "# log_df['articleID'] = article_label_encoder.fit_transform(log_df['articleID'])\n",
        "\n",
        "# 유저 아이디도 라벨 인코딩 적용\n",
        "# user_label_encoder = LabelEncoder()\n",
        "# log_df['userID'] = user_label_encoder.fit_transform(log_df['userID'])"
      ],
      "metadata": {
        "id": "ji6oba6BBJFU"
      },
      "execution_count": null,
      "outputs": []
    },
    {
      "cell_type": "code",
      "source": [
        "# 라벨 인코더 생성 및 학습\n",
        "article_label_encoder = LabelEncoder()\n",
        "merged_df['articleID'] = article_label_encoder.fit_transform(merged_df['articleID'])\n",
        "article_nouns_df['articleID'] = article_label_encoder.transform(article_nouns_df['articleID'])"
      ],
      "metadata": {
        "id": "8s8DzvhiodoZ"
      },
      "execution_count": null,
      "outputs": []
    },
    {
      "cell_type": "code",
      "source": [
        "# 유저 아이디 라벨 인코딩 적용\n",
        "user_label_encoder = LabelEncoder()\n",
        "merged_df['userID'] = user_label_encoder.fit_transform(merged_df['userID'])"
      ],
      "metadata": {
        "id": "6N4f0JpdojzN"
      },
      "execution_count": null,
      "outputs": []
    },
    {
      "cell_type": "code",
      "source": [
        "# log_df 원핫 인코딩\n",
        "encoder = OneHotEncoder()\n",
        "\n",
        "# 범주형 변수 선택 (지역, 나라)\n",
        "log_df_categories = log_df[['userRegion', 'userCountry']]\n",
        "\n",
        "# One-Hot Encoding 수행\n",
        "log_df_encoded_categories = encoder.fit_transform(log_df_categories).toarray()"
      ],
      "metadata": {
        "id": "0RUncDyyladF"
      },
      "execution_count": null,
      "outputs": []
    },
    {
      "cell_type": "code",
      "source": [
        "# article_nouns_df 원핫 인코딩\n",
        "encoder = OneHotEncoder()\n",
        "\n",
        "# 범주형 변수 선택 (언어, 형식)\n",
        "article_nouns_df_categories = article_nouns_df[['Format', 'Language']]\n",
        "\n",
        "# One-Hot Encoding 수행\n",
        "article_nouns_df_encoded_categories = encoder.fit_transform(article_nouns_df_categories).toarray()"
      ],
      "metadata": {
        "id": "b_Jims6CUZPY"
      },
      "execution_count": null,
      "outputs": []
    },
    {
      "cell_type": "code",
      "source": [
        "# 기사 데이터 전처리: 제목 + 본문\n",
        "tfidf = TfidfVectorizer(\n",
        "    stop_words='english',\n",
        "    max_features=10000,\n",
        "    ngram_range=(1, 2),\n",
        "    max_df=0.8,\n",
        "    min_df=3,\n",
        "    sublinear_tf=True,\n",
        "    smooth_idf=True\n",
        ")\n",
        "tfidf_matrix = tfidf.fit_transform(article_nouns_df['Title'] + ' ' + article_nouns_df['Content'])"
      ],
      "metadata": {
        "id": "C8dmLWfkUZIB"
      },
      "execution_count": null,
      "outputs": []
    },
    {
      "cell_type": "code",
      "source": [
        "# TF-IDF 행렬, article_nouns_df 원핫 인코딩 / log_df 원핫 인코딩 / => 피처 벡터 결합\n",
        "combined_features = np.hstack((tfidf_matrix.toarray(), article_nouns_df_encoded_categories))\n"
      ],
      "metadata": {
        "id": "P2KmTHW85bnn"
      },
      "execution_count": null,
      "outputs": []
    },
    {
      "cell_type": "code",
      "source": [
        "# 유저별 기사 읽기 패턴 추출\n",
        "user_read_articles = defaultdict(list)\n",
        "for _, row in merged_df.iterrows():\n",
        "    user_read_articles[row['userID']].append(row['articleID'])"
      ],
      "metadata": {
        "id": "3loQC9ua6HPc"
      },
      "execution_count": null,
      "outputs": []
    },
    {
      "cell_type": "code",
      "source": [
        "# 유저 기반 협업 필터링 모델\n",
        "def recommend_articles(userID, top_n=5):\n",
        "    if userID not in user_read_articles or not user_read_articles[userID]:\n",
        "\n",
        "        return article_nouns_df.sample(n=top_n)[['Title', 'Content']]\n",
        "\n",
        "\n",
        "    read_articles = user_read_articles[userID]\n",
        "    read_articles_features = combined_features[read_articles]\n",
        "\n",
        "    if read_articles_features.shape[0] == 0:\n",
        "        return article_nouns_df.sample(n=top_n)[['Title', 'Content']]\n",
        "\n",
        "    # 사용자가 읽은 기사들의 피처 벡터 평균 계산\n",
        "    avg_features = np.mean(read_articles_features, axis=0).reshape(1, -1)\n",
        "\n",
        "    # 사용자가 읽은 기사들의 피처 벡터 평균과 모든 기사들의 피처 벡터 간의 코사인 유사도 계산\n",
        "    similarities = cosine_similarity(avg_features, combined_features)\n",
        "\n",
        "    # 유사도가 높은 상위 top_n 개의 기사 인덱스 추출\n",
        "    similar_articles_indices = similarities.flatten().argsort()[-top_n:][::-1]\n",
        "\n",
        "    # 추천 기사 반환 (유저가 읽은 기사 포함)\n",
        "    recommendations = article_nouns_df.iloc[similar_articles_indices]\n",
        "    return recommendations[['Title', 'Content']]"
      ],
      "metadata": {
        "id": "6DoBpMp9hJ3s"
      },
      "execution_count": null,
      "outputs": []
    },
    {
      "cell_type": "code",
      "source": [
        "user_recommendations = []\n",
        "\n",
        "for encoded_user_id in merged_df['userID'].unique():\n",
        "    # 추천 기사 인덱스 가져오기\n",
        "    recommended_articles = recommend_articles(encoded_user_id)\n",
        "\n",
        "    # 원래 유저 아이디로 역변환\n",
        "    original_user_id = user_label_encoder.inverse_transform([encoded_user_id])[0]\n",
        "\n",
        "    for idx in recommended_articles.index:\n",
        "        # 원래 기사 아이디로 역변환\n",
        "        original_article_id = article_label_encoder.inverse_transform([article_nouns_df.loc[idx, 'articleID']])[0]\n",
        "\n",
        "        # 추천 결과를 리스트에 저장\n",
        "        user_recommendations.append({\n",
        "            'userID': original_user_id,\n",
        "            'articleID': original_article_id\n",
        "        })"
      ],
      "metadata": {
        "id": "PTI_MVJU0Bef"
      },
      "execution_count": null,
      "outputs": []
    },
    {
      "cell_type": "code",
      "source": [
        "print(user_recommendations)"
      ],
      "metadata": {
        "id": "lIfqs18V4RYH"
      },
      "execution_count": null,
      "outputs": []
    },
    {
      "cell_type": "code",
      "source": [
        "recommendations_df = pd.DataFrame(user_recommendations)\n",
        "recommendations_df.to_csv('user_recommendations_(title+content)_content_tune.csv', index=False)"
      ],
      "metadata": {
        "id": "tbLdf3V_4YmI"
      },
      "execution_count": null,
      "outputs": []
    }
  ]
}